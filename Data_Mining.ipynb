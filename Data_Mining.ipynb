{
 "cells": [
  {
   "cell_type": "code",
   "execution_count": 3,
   "id": "15750a69-b0de-42fd-950b-55736f81f789",
   "metadata": {},
   "outputs": [
    {
     "data": {
      "text/html": [
       "<div>\n",
       "<style scoped>\n",
       "    .dataframe tbody tr th:only-of-type {\n",
       "        vertical-align: middle;\n",
       "    }\n",
       "\n",
       "    .dataframe tbody tr th {\n",
       "        vertical-align: top;\n",
       "    }\n",
       "\n",
       "    .dataframe thead th {\n",
       "        text-align: right;\n",
       "    }\n",
       "</style>\n",
       "<table border=\"1\" class=\"dataframe\">\n",
       "  <thead>\n",
       "    <tr style=\"text-align: right;\">\n",
       "      <th></th>\n",
       "      <th>Profession</th>\n",
       "      <th>Income</th>\n",
       "      <th>Credit_card_number</th>\n",
       "      <th>Expiry</th>\n",
       "      <th>Security_code</th>\n",
       "      <th>Fraud</th>\n",
       "    </tr>\n",
       "  </thead>\n",
       "  <tbody>\n",
       "    <tr>\n",
       "      <th>0</th>\n",
       "      <td>DOCTOR</td>\n",
       "      <td>42509</td>\n",
       "      <td>3515418493460774</td>\n",
       "      <td>07/25</td>\n",
       "      <td>251</td>\n",
       "      <td>1</td>\n",
       "    </tr>\n",
       "    <tr>\n",
       "      <th>1</th>\n",
       "      <td>DOCTOR</td>\n",
       "      <td>80334</td>\n",
       "      <td>213134223583196</td>\n",
       "      <td>05/32</td>\n",
       "      <td>858</td>\n",
       "      <td>1</td>\n",
       "    </tr>\n",
       "    <tr>\n",
       "      <th>2</th>\n",
       "      <td>LAWYER</td>\n",
       "      <td>91552</td>\n",
       "      <td>4869615013764888</td>\n",
       "      <td>03/30</td>\n",
       "      <td>755</td>\n",
       "      <td>1</td>\n",
       "    </tr>\n",
       "    <tr>\n",
       "      <th>3</th>\n",
       "      <td>LAWYER</td>\n",
       "      <td>43623</td>\n",
       "      <td>341063356109385</td>\n",
       "      <td>01/29</td>\n",
       "      <td>160</td>\n",
       "      <td>1</td>\n",
       "    </tr>\n",
       "    <tr>\n",
       "      <th>4</th>\n",
       "      <td>DOCTOR</td>\n",
       "      <td>22962</td>\n",
       "      <td>4707418777543978402</td>\n",
       "      <td>11/30</td>\n",
       "      <td>102</td>\n",
       "      <td>0</td>\n",
       "    </tr>\n",
       "  </tbody>\n",
       "</table>\n",
       "</div>"
      ],
      "text/plain": [
       "  Profession  Income   Credit_card_number Expiry  Security_code  Fraud\n",
       "0     DOCTOR   42509     3515418493460774  07/25            251      1\n",
       "1     DOCTOR   80334      213134223583196  05/32            858      1\n",
       "2     LAWYER   91552     4869615013764888  03/30            755      1\n",
       "3     LAWYER   43623      341063356109385  01/29            160      1\n",
       "4     DOCTOR   22962  4707418777543978402  11/30            102      0"
      ]
     },
     "execution_count": 3,
     "metadata": {},
     "output_type": "execute_result"
    }
   ],
   "source": [
    "# Data handling\n",
    "import pandas as pd\n",
    "import numpy as np\n",
    "# Preprocessing\n",
    "from sklearn.preprocessing import LabelEncoder, MinMaxScaler\n",
    "# Feature Selection\n",
    "from sklearn.feature_selection import SelectKBest, chi2\n",
    "# Machine Learning Models\n",
    "from sklearn.svm import SVC\n",
    "from sklearn.neighbors import KNeighborsClassifier\n",
    "# Evaluation\n",
    "from sklearn.metrics import classification_report, confusion_matrix\n",
    "# Visualization\n",
    "import matplotlib.pyplot as plt\n",
    "import seaborn as sns\n",
    "# Ignore warnings (optional)\n",
    "import warnings\n",
    "warnings.filterwarnings('ignore')\n",
    "\n",
    "# Load the dataset\n",
    "file_path = r\"D:\\projects\\PROJET-DATA-MINING\\data2.csv\"  \n",
    "data = pd.read_csv(file_path)\n",
    "\n",
    "# Display the first few rows\n",
    "data.head()\n"
   ]
  },
  {
   "cell_type": "code",
   "execution_count": 4,
   "id": "17a71fa3-d364-424a-aa73-63aca8f703de",
   "metadata": {},
   "outputs": [
    {
     "name": "stdout",
     "output_type": "stream",
     "text": [
      "<class 'pandas.core.frame.DataFrame'>\n",
      "RangeIndex: 10000 entries, 0 to 9999\n",
      "Data columns (total 6 columns):\n",
      " #   Column              Non-Null Count  Dtype \n",
      "---  ------              --------------  ----- \n",
      " 0   Profession          10000 non-null  object\n",
      " 1   Income              10000 non-null  int64 \n",
      " 2   Credit_card_number  10000 non-null  int64 \n",
      " 3   Expiry              10000 non-null  object\n",
      " 4   Security_code       10000 non-null  int64 \n",
      " 5   Fraud               10000 non-null  int64 \n",
      "dtypes: int64(4), object(2)\n",
      "memory usage: 468.9+ KB\n",
      "None\n",
      "Profession            0\n",
      "Income                0\n",
      "Credit_card_number    0\n",
      "Expiry                0\n",
      "Security_code         0\n",
      "Fraud                 0\n",
      "dtype: int64\n",
      "            Income  Credit_card_number  Security_code         Fraud\n",
      "count  10000.00000        1.000000e+04   10000.000000  10000.000000\n",
      "mean   49761.20600        3.851363e+17     863.587800      0.501600\n",
      "std    28837.72928        1.257950e+18    1484.424959      0.500022\n",
      "min        1.00000        6.040296e+10       0.000000      0.000000\n",
      "25%    24863.75000        1.800137e+14     275.000000      0.000000\n",
      "50%    49483.00000        3.512440e+15     539.500000      1.000000\n",
      "75%    74483.00000        4.594779e+15     813.250000      1.000000\n",
      "max    99986.00000        4.999697e+18    9990.000000      1.000000\n"
     ]
    }
   ],
   "source": [
    "# Check dataset structure\n",
    "print(data.info())\n",
    "\n",
    "# Check for missing values\n",
    "print(data.isnull().sum())\n",
    "\n",
    "# View descriptive statistics\n",
    "print(data.describe())\n"
   ]
  },
  {
   "cell_type": "code",
   "execution_count": 7,
   "id": "c912300f-a416-44d6-ab1d-e2f6ffdd2dde",
   "metadata": {},
   "outputs": [],
   "source": [
    "# Drop rows with missing values\n",
    "data = data.dropna()\n",
    "\n",
    "# Alternatively, fill missing values\n",
    "# data['Income'] = data['Income'].fillna(data['Income'].mean())\n",
    "\n",
    "data = data.drop(['Credit_card_number', 'Expiry'], axis=1)"
   ]
  },
  {
   "cell_type": "code",
   "execution_count": 8,
   "id": "0b25a37e-3c75-43ba-a445-9b0d7945d747",
   "metadata": {},
   "outputs": [],
   "source": [
    "le = LabelEncoder()\n",
    "data['Profession'] = le.fit_transform(data['Profession'])"
   ]
  },
  {
   "cell_type": "code",
   "execution_count": 10,
   "id": "12c12737-281b-4795-abad-ab26a5d9e5a8",
   "metadata": {},
   "outputs": [],
   "source": [
    "scaler = MinMaxScaler()\n",
    "data[['Income', 'Security_code']] = scaler.fit_transform(data[['Income', 'Security_code']])"
   ]
  },
  {
   "cell_type": "code",
   "execution_count": 11,
   "id": "692880a9-e328-4950-8df1-35e1920393c8",
   "metadata": {},
   "outputs": [],
   "source": [
    "X = data.drop('Fraud', axis=1)  # Features\n",
    "y = data['Fraud']              # Target"
   ]
  },
  {
   "cell_type": "code",
   "execution_count": 12,
   "id": "9eab9798-4472-47a4-ae22-e5f02a2f0d88",
   "metadata": {},
   "outputs": [
    {
     "name": "stdout",
     "output_type": "stream",
     "text": [
      "Selected Features: Index(['Profession', 'Income', 'Security_code'], dtype='object')\n"
     ]
    }
   ],
   "source": [
    "selector = SelectKBest(score_func=chi2, k=5)  # Select top 5 features\n",
    "X_new = selector.fit_transform(X, y)\n",
    "\n",
    "# Print the selected feature names\n",
    "selected_features = X.columns[selector.get_support()]\n",
    "print(\"Selected Features:\", selected_features)"
   ]
  },
  {
   "cell_type": "code",
   "execution_count": 14,
   "id": "1d4b2afd-0f5c-46a5-be06-d3dcc1161b44",
   "metadata": {},
   "outputs": [
    {
     "name": "stdout",
     "output_type": "stream",
     "text": [
      "No text column found for TF-IDF.\n"
     ]
    }
   ],
   "source": [
    "# Check if 'Description' column exists and contains text data\n",
    "if 'Description' in data.columns:\n",
    "    print(data['Description'].head())\n",
    "else:\n",
    "    print(\"No text column found for TF-IDF.\")"
   ]
  },
  {
   "cell_type": "code",
   "execution_count": 15,
   "id": "376edb4f-f5a8-4bd3-9c63-668aef7ad8d0",
   "metadata": {},
   "outputs": [
    {
     "name": "stdout",
     "output_type": "stream",
     "text": [
      "   Profession    Income  Security_code  Fraud  \\\n",
      "0           0  0.425144       0.025125      1   \n",
      "1           0  0.803451       0.085886      1   \n",
      "2           2  0.915647       0.075576      1   \n",
      "3           2  0.436285       0.016016      1   \n",
      "4           0  0.229644       0.010210      0   \n",
      "\n",
      "                        Description  \n",
      "0           Doctor with high income  \n",
      "1  Engineer specialized in software  \n",
      "2   Lawyer focused on corporate law  \n",
      "3    Engineer in mechanical systems  \n",
      "4      Doctor working in cardiology  \n"
     ]
    }
   ],
   "source": [
    "# Generate a description column programmatically\n",
    "descriptions = [\n",
    "    \"Doctor with high income\",\n",
    "    \"Engineer specialized in software\",\n",
    "    \"Lawyer focused on corporate law\",\n",
    "    \"Engineer in mechanical systems\",\n",
    "    \"Doctor working in cardiology\",\n",
    "    \"Engineer in AI research\",\n",
    "    \"Lawyer specializing in criminal law\",\n",
    "    \"Doctor with expertise in pediatrics\",\n",
    "    \"Engineer handling robotics projects\",\n",
    "    \"Lawyer working in public defense\"\n",
    "]\n",
    "\n",
    "# Repeat descriptions to match the dataset length\n",
    "data['Description'] = descriptions * (len(data) // len(descriptions)) + descriptions[:len(data) % len(descriptions)]\n",
    "\n",
    "# Check the updated dataset\n",
    "print(data.head())"
   ]
  },
  {
   "cell_type": "code",
   "execution_count": 16,
   "id": "c2d0e3c5-ff2f-4424-8e69-ea2ae7838e24",
   "metadata": {},
   "outputs": [
    {
     "name": "stdout",
     "output_type": "stream",
     "text": [
      "   Profession    Income  Security_code  Fraud   ai  cardiology  corporate  \\\n",
      "0           0  0.425144       0.025125      1  0.0    0.000000   0.000000   \n",
      "1           0  0.803451       0.085886      1  0.0    0.000000   0.000000   \n",
      "2           2  0.915647       0.075576      1  0.0    0.000000   0.495685   \n",
      "3           2  0.436285       0.016016      1  0.0    0.000000   0.000000   \n",
      "4           0  0.229644       0.010210      0  0.0    0.668337   0.000000   \n",
      "\n",
      "   criminal  defense    doctor  ...  projects  public  research  robotics  \\\n",
      "0       0.0      0.0  0.380943  ...       0.0     0.0       0.0       0.0   \n",
      "1       0.0      0.0  0.000000  ...       0.0     0.0       0.0       0.0   \n",
      "2       0.0      0.0  0.000000  ...       0.0     0.0       0.0       0.0   \n",
      "3       0.0      0.0  0.000000  ...       0.0     0.0       0.0       0.0   \n",
      "4       0.0      0.0  0.446087  ...       0.0     0.0       0.0       0.0   \n",
      "\n",
      "   software  specialized  specializing   systems      with   working  \n",
      "0  0.000000     0.000000           0.0  0.000000  0.451003  0.000000  \n",
      "1  0.631743     0.631743           0.0  0.000000  0.000000  0.000000  \n",
      "2  0.000000     0.000000           0.0  0.000000  0.000000  0.000000  \n",
      "3  0.000000     0.000000           0.0  0.631743  0.000000  0.000000  \n",
      "4  0.000000     0.000000           0.0  0.000000  0.000000  0.528129  \n",
      "\n",
      "[5 rows x 32 columns]\n"
     ]
    }
   ],
   "source": [
    "from sklearn.feature_extraction.text import TfidfVectorizer\n",
    "\n",
    "# Apply TF-IDF to the new Description column\n",
    "vectorizer = TfidfVectorizer(max_features=100)  # Extract top 100 features\n",
    "tfidf_matrix = vectorizer.fit_transform(data['Description'])\n",
    "\n",
    "# Convert TF-IDF matrix to a DataFrame\n",
    "tfidf_df = pd.DataFrame(tfidf_matrix.toarray(), columns=vectorizer.get_feature_names_out())\n",
    "\n",
    "# Concatenate the TF-IDF DataFrame with the original dataset\n",
    "data = pd.concat([data, tfidf_df], axis=1)\n",
    "\n",
    "# Drop the original Description column if no longer needed\n",
    "data = data.drop('Description', axis=1)\n",
    "\n",
    "# Check the updated dataset\n",
    "print(data.head())"
   ]
  },
  {
   "cell_type": "code",
   "execution_count": null,
   "id": "c9f0fe3a-d0d3-43d5-884d-40fc04811773",
   "metadata": {},
   "outputs": [],
   "source": []
  }
 ],
 "metadata": {
  "kernelspec": {
   "display_name": "Python 3 (ipykernel)",
   "language": "python",
   "name": "python3"
  },
  "language_info": {
   "codemirror_mode": {
    "name": "ipython",
    "version": 3
   },
   "file_extension": ".py",
   "mimetype": "text/x-python",
   "name": "python",
   "nbconvert_exporter": "python",
   "pygments_lexer": "ipython3",
   "version": "3.12.7"
  }
 },
 "nbformat": 4,
 "nbformat_minor": 5
}
